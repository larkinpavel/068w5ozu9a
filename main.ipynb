{
 "cells": [
  {
   "cell_type": "code",
   "execution_count": 1,
   "metadata": {},
   "outputs": [],
   "source": [
    "from main import *"
   ]
  },
  {
   "cell_type": "code",
   "execution_count": 2,
   "metadata": {
    "scrolled": true
   },
   "outputs": [
    {
     "name": "stdout",
     "output_type": "stream",
     "text": [
      "Enter transaction GUID (without quotes): 606e4b4e-8383-46cd-bab8-5dd270d87f85\n"
     ]
    }
   ],
   "source": [
    "transaction_guid = input('Enter transaction GUID (without quotes): ')"
   ]
  },
  {
   "cell_type": "code",
   "execution_count": 3,
   "metadata": {},
   "outputs": [
    {
     "name": "stdout",
     "output_type": "stream",
     "text": [
      "Enter transaction amount: 12.89\n"
     ]
    }
   ],
   "source": [
    "net_amount = float(input('Enter transaction amount: '))"
   ]
  },
  {
   "cell_type": "code",
   "execution_count": 4,
   "metadata": {},
   "outputs": [
    {
     "name": "stdout",
     "output_type": "stream",
     "text": [
      "Enter seller transaction ID (without quotes): 88D36561LK9097738\n"
     ]
    }
   ],
   "source": [
    "seller_transaction_id = input('Enter seller transaction ID (without quotes): ')"
   ]
  },
  {
   "cell_type": "code",
   "execution_count": 5,
   "metadata": {},
   "outputs": [
    {
     "name": "stdout",
     "output_type": "stream",
     "text": [
      "Enter PayPal merchant ID (without quotes): CEHSXFWTH8EEL\n"
     ]
    }
   ],
   "source": [
    "paypal_merchant_id = input('Enter PayPal merchant ID (without quotes): ')"
   ]
  },
  {
   "cell_type": "code",
   "execution_count": 6,
   "metadata": {},
   "outputs": [
    {
     "name": "stdout",
     "output_type": "stream",
     "text": [
      "INSERT INTO PayPalWebhookRequests \n",
      "(\n",
      "\tDateTimeCreated,\n",
      "\tBody,\n",
      "\tHeaders,\n",
      "\tIsValid,\n",
      "\tValidationMessage,\n",
      "\tProcessingStatus,\n",
      "\tProcessingMessage,\n",
      "\tPath\n",
      ")\n",
      "VALUES\n",
      "(\tGETDATE(),\n",
      "\t'{\"id\": \"WH-29L4RJPSEGNZ44M1Q-N5XESX0YELJWOU6YC\", \"event_version\": \"1.0\", \"create_time\": \"2020-10-27T07:45:33.973Z\", \"resource_type\": \"refund\", \"resource_version\": \"2.0\", \"event_type\": \"PAYMENT.CAPTURE.REFUNDED\", \"summary\": \"A $ 12.89 USD capture payment was refunded\", \"resource\": {\"seller_payable_breakdown\": {\"total_refunded_amount\": {\"value\": 12.89, \"currency_code\": \"USD\"}, \"paypal_fee\": {\"value\": 0.3867, \"currency_code\": \"USD\"}, \"gross_amount\": {\"value\": 12.89, \"currency_code\": \"USD\"}, \"net_amount\": {\"value\": 12.503300000000001, \"currency_code\": \"USD\"}}, \"amount\": {\"value\": 12.89, \"currency_code\": \"USD\"}, \"update_time\": \"2020-10-27T00:44:36-07:00\", \"create_time\": \"2020-10-27T00:44:36-07:00\", \"custom_id\": \"606e4b4e-8383-46cd-bab8-5dd270d87f85\", \"invoice_id\": \"606e4b4e-8383-46cd-bab8-5dd270d87f85\", \"id\": \"C7XTFEPIBUNUD6GM5\", \"status\": \"COMPLETED\"}}',\n",
      "\tNULL,\n",
      "\t1,\n",
      "\tNULL,\n",
      "\t1201,\n",
      "\tNULL,\n",
      "\tNULL\n",
      ");\n"
     ]
    }
   ],
   "source": [
    "print(generate_insert_statement(generate_capture_refunded(transaction_guid, net_amount)))"
   ]
  },
  {
   "cell_type": "code",
   "execution_count": 7,
   "metadata": {},
   "outputs": [
    {
     "name": "stdout",
     "output_type": "stream",
     "text": [
      "INSERT INTO PayPalWebhookRequests \n",
      "(\n",
      "\tDateTimeCreated,\n",
      "\tBody,\n",
      "\tHeaders,\n",
      "\tIsValid,\n",
      "\tValidationMessage,\n",
      "\tProcessingStatus,\n",
      "\tProcessingMessage,\n",
      "\tPath\n",
      ")\n",
      "VALUES\n",
      "(\tGETDATE(),\n",
      "\t'{\"id\": \"WH-494IE896CCIFKUB4E-RGDUJK6ZBS5KWPD43\", \"event_version\": \"1.0\", \"create_time\": \"2020-10-26T16:20:56.886Z\", \"resource_type\": \"dispute\", \"event_type\": \"CUSTOMER.DISPUTE.RESOLVED\", \"summary\": \"A dispute was resolved with case # PP-D-29539\", \"resource\": {\"reason\": \"MERCHANDISE_OR_SERVICE_NOT_RECEIVED\", \"dispute_channel\": \"INTERNAL\", \"create_time\": \"2020-10-26T15:55:46.000Z\", \"dispute_id\": \"PP-D-0547315773\", \"dispute_life_cycle_stage\": \"INQUIRY\", \"refund_details\": {\"allowed_refund_amount\": {\"value\": 12.89, \"currency_code\": \"USD\"}}, \"disputed_transactions\": [{\"seller\": {\"name\": \"Test Store\", \"merchant_id\": \"CEHSXFWTH8EEL\"}, \"seller_transaction_id\": \"88D36561LK9097738\", \"custom\": \"606e4b4e-8383-46cd-bab8-5dd270d87f85\", \"invoice_number\": \"606e4b4e-8383-46cd-bab8-5dd270d87f85\", \"items\": [], \"seller_protection_eligible\": true}], \"update_time\": \"2020-10-26T16:20:29.000Z\", \"messages\": [], \"links\": [], \"dispute_amount\": {\"value\": 12.89, \"currency_code\": \"USD\"}, \"dispute_outcome\": {\"outcome_code\": \"CANCELED_BY_BUYER\"}, \"status\": \"RESOLVED\"}, \"links\": []}',\n",
      "\tNULL,\n",
      "\t1,\n",
      "\tNULL,\n",
      "\t1201,\n",
      "\tNULL,\n",
      "\tNULL\n",
      ");\n"
     ]
    }
   ],
   "source": [
    "print(generate_insert_statement(generate_dispute_cancelled_by_buyer(transaction_guid, seller_transaction_id, paypal_merchant_id, net_amount)))"
   ]
  }
 ],
 "metadata": {
  "kernelspec": {
   "display_name": "Python 3",
   "language": "python",
   "name": "python3"
  },
  "language_info": {
   "codemirror_mode": {
    "name": "ipython",
    "version": 3
   },
   "file_extension": ".py",
   "mimetype": "text/x-python",
   "name": "python",
   "nbconvert_exporter": "python",
   "pygments_lexer": "ipython3",
   "version": "3.7.6"
  }
 },
 "nbformat": 4,
 "nbformat_minor": 4
}
